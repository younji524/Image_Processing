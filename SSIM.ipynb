{
 "cells": [
  {
   "cell_type": "code",
   "execution_count": 5,
   "id": "prepared-there",
   "metadata": {},
   "outputs": [
    {
     "name": "stderr",
     "output_type": "stream",
     "text": [
      "<ipython-input-5-7fc9bffd42d2>:25: UserWarning: DEPRECATED: skimage.measure.compare_ssim has been moved to skimage.metrics.structural_similarity. It will be removed from skimage.measure in version 0.18.\n",
      "  (score, diff)=compare_ssim(img2,img1,full=True,multichannel=3)\n"
     ]
    }
   ],
   "source": [
    "import os\n",
    "import cv2\n",
    "from skimage.measure import compare_ssim\n",
    "import sys\n",
    "import numpy as np\n",
    " \n",
    "img1_file=r'C:\\Users\\user\\Desktop\\YJ_Kim\\resnet50\\rawdata_edit\\abnormal/'\n",
    "fname1 = [s for s in (os.listdir(img1_file))if s.endswith(\".jpg\")]\n",
    "\n",
    "img2_file=r'C:\\Users\\user\\Desktop\\YJ_Kim\\exp_CLAHE\\rawdata_edit\\abnormal/'\n",
    "fname2 = [s for s in (os.listdir(img2_file))if s.endswith(\".jpg\")]\n",
    "\n",
    "for i in range(len(fname1)):\n",
    "    img1_path= img1_file+fname1[i]\n",
    "    img2_path= img2_file+fname2[i]\n",
    "    \n",
    "    img1 = cv2.imread(img1_path,cv2.IMREAD_COLOR)\n",
    "    img2 = cv2.imread(img2_path,cv2.IMREAD_COLOR)\n",
    "    img1 = img1.astype(np.float64) / 255.\n",
    "    img2 = img2.astype(np.float64) / 255.\n",
    "    \n",
    "    if not img1.shape==img2.shape:\n",
    "        img1.resize((img2.shape))\n",
    "\n",
    "    (score, diff)=compare_ssim(img2,img1,full=True,multichannel=3)\n",
    "    \n",
    "    print('%s, %.4f' % (fname1[i], score))\n",
    "    sys.stdout=open(r'C:\\Users\\user\\Desktop\\YJ_Kim\\SSIM_ori_CLAHE.txt','a')"
   ]
  },
  {
   "cell_type": "code",
   "execution_count": null,
   "id": "durable-obligation",
   "metadata": {},
   "outputs": [],
   "source": []
  },
  {
   "cell_type": "code",
   "execution_count": null,
   "id": "congressional-midnight",
   "metadata": {},
   "outputs": [],
   "source": []
  }
 ],
 "metadata": {
  "kernelspec": {
   "display_name": "Python 3",
   "language": "python",
   "name": "python3"
  },
  "language_info": {
   "codemirror_mode": {
    "name": "ipython",
    "version": 3
   },
   "file_extension": ".py",
   "mimetype": "text/x-python",
   "name": "python",
   "nbconvert_exporter": "python",
   "pygments_lexer": "ipython3",
   "version": "3.6.12"
  }
 },
 "nbformat": 4,
 "nbformat_minor": 5
}
