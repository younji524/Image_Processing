{
 "cells": [
  {
   "cell_type": "code",
   "execution_count": null,
   "id": "prepared-there",
   "metadata": {},
   "outputs": [],
   "source": [
    "import os\n",
    "import cv2\n",
    "from skimage.measure import compare_ssim\n",
    "import sys\n",
    "import numpy as np\n"
   ]
  },
  {
   "cell_type": "code",
   "execution_count": null,
   "id": "fbca3bc0",
   "metadata": {},
   "outputs": [],
   "source": [
    "img1_file = r'../'\n",
    "fname1 = [s for s in (os.listdir(img1_file))if s.endswith(\".jpg\")]\n",
    "\n",
    "img2_file = r'../'\n",
    "fname2 = [s for s in (os.listdir(img2_file))if s.endswith(\".jpg\")]\n",
    "\n",
    "for i in range(len(fname1)):\n",
    "    img1_path = img1_file + fname1[i]\n",
    "    img2_path = img2_file + fname2[i]\n",
    "    \n",
    "    img1 = cv2.imread(img1_path, cv2.IMREAD_COLOR)\n",
    "    img2 = cv2.imread(img2_path, cv2.IMREAD_COLOR)\n",
    "    img1 = img1.astype(np.float64) / 255.\n",
    "    img2 = img2.astype(np.float64) / 255.\n",
    "    \n",
    "    if not img1.shape == img2.shape:\n",
    "        img1.resize((img2.shape))\n",
    "\n",
    "    (score, diff) = compare_ssim(img2, img1, full = True, multichannel = 3)\n",
    "    \n",
    "    print('%s, %.4f' %(fname1[i], score))\n",
    "    sys.stdout = open(r'../SSIM.txt','a')"
   ]
  }
 ],
 "metadata": {
  "kernelspec": {
   "display_name": "Python 3",
   "language": "python",
   "name": "python3"
  },
  "language_info": {
   "codemirror_mode": {
    "name": "ipython",
    "version": 3
   },
   "file_extension": ".py",
   "mimetype": "text/x-python",
   "name": "python",
   "nbconvert_exporter": "python",
   "pygments_lexer": "ipython3",
   "version": "3.6.12"
  }
 },
 "nbformat": 4,
 "nbformat_minor": 5
}
