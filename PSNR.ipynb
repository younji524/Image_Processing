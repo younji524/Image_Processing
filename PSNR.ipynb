{
 "cells": [
  {
   "cell_type": "code",
   "execution_count": 2,
   "id": "elect-combination",
   "metadata": {},
   "outputs": [
    {
     "name": "stdout",
     "output_type": "stream",
     "text": [
      "N1_3828082_2_01.jpg,83.7517\n"
     ]
    }
   ],
   "source": [
    "import numpy\n",
    "import math\n",
    "import cv2\n",
    "import os\n",
    "import numpy as np\n",
    "import sys\n",
    "\n",
    "def psnr(img1,img2):\n",
    "    mse=numpy.mean((img1-img2)**2)\n",
    "    #print('mse:',mse)\n",
    "    if mse==0:\n",
    "        print('mse=0')\n",
    "        return 100\n",
    "    PIXEL_MAX=255.0\n",
    "\n",
    "    return 20*math.log10(PIXEL_MAX/math.sqrt(mse))\n",
    "\n",
    "img1_file='../exp_sharp/rawdata_edit/normal/'\n",
    "fname1 = [s for s in (os.listdir(img1_file))if s.endswith(\".jpg\")]\n",
    "#print(len(fname1))\n",
    "\n",
    "img2_file='../resnet50/rawdata_edit/normal/'\n",
    "fname2 = [s for s in (os.listdir(img2_file))if s.endswith(\".jpg\")]\n",
    "\n",
    "for i in range(len(fname1)):\n",
    "    img1_path= img1_file+fname1[i]\n",
    "    img2_path= img2_file+fname2[i]\n",
    "    \n",
    "    img1 = cv2.imread(img1_path,cv2.IMREAD_COLOR)\n",
    "    img2 = cv2.imread(img2_path,cv2.IMREAD_COLOR)\n",
    "    img1 = img1.astype(np.float64) / 255.\n",
    "    img2 = img2.astype(np.float64) / 255.\n",
    "    \n",
    "    if not img1.shape==img2.shape:\n",
    "        img1.resize((img2.shape))        \n",
    "        \n",
    "    score=psnr(img1,img2)\n",
    "    \n",
    "    print('%s,%.4f' % (fname1[i], score))\n",
    "    sys.stdout=open('../exp_sharp/PSNR_sharp_ori.txt','a')"
   ]
  },
  {
   "cell_type": "code",
   "execution_count": 6,
   "id": "solar-cartoon",
   "metadata": {},
   "outputs": [
    {
     "data": {
      "text/plain": [
       "<module 'cv2' from '/home/ubuntu/.conda/envs/younji/lib/python3.6/site-packages/cv2.cpython-36m-x86_64-linux-gnu.so'>"
      ]
     },
     "execution_count": 6,
     "metadata": {},
     "output_type": "execute_result"
    }
   ],
   "source": [
    "cv2"
   ]
  }
 ],
 "metadata": {
  "kernelspec": {
   "display_name": "Python 3",
   "language": "python",
   "name": "python3"
  },
  "language_info": {
   "codemirror_mode": {
    "name": "ipython",
    "version": 3
   },
   "file_extension": ".py",
   "mimetype": "text/x-python",
   "name": "python",
   "nbconvert_exporter": "python",
   "pygments_lexer": "ipython3",
   "version": "3.6.12"
  }
 },
 "nbformat": 4,
 "nbformat_minor": 5
}
