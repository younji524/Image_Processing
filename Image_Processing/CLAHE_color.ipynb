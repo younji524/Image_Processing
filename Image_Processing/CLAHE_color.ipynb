{
 "cells": [
  {
   "cell_type": "code",
   "execution_count": 44,
   "metadata": {},
   "outputs": [],
   "source": [
    "import numpy as np\n",
    "import cv2\n",
    "import os\n",
    "import pandas as pd\n",
    "import glob"
   ]
  },
  {
   "cell_type": "code",
   "execution_count": null,
   "metadata": {
    "collapsed": true,
    "jupyter": {
     "outputs_hidden": true
    }
   },
   "outputs": [],
   "source": [
    "path='../*'\n",
    "paths=glob.glob(path)\n",
    "\n",
    "for i in paths[12:]:\n",
    "    img_file = '../'\n",
    "    fname = i[i.rindex('/')+1:]\n",
    "    img_path = os.path.join(img_file, fname)\n",
    "    print(img_path)\n",
    "    \n",
    "    img = cv2.imread(img_path)\n",
    "    img_yuv = cv2.cvtColor(img, cv2.COLOR_BGR2YUV)\n",
    "    \n",
    "    img_clahe = img_yuv.copy()\n",
    "    clahe = cv2.createCLAHE(clipLimit=3.0, tileGridSize=(8,8)) #CLAHE 생성\n",
    "    img_clahe[:,:,0] = clahe.apply(img_clahe[:,:,0])           #CLAHE 적용\n",
    "    img_clahe = cv2.cvtColor(img_clahe, cv2.COLOR_YUV2BGR)\n",
    "    \n",
    "    img_save_path ='../'\n",
    "    img_name = fname[:-16]\n",
    "    cv2.imwrite(img_save_path+ img_name+'.jpg',img_clahe)"
   ]
  }
 ],
 "metadata": {
  "kernelspec": {
   "display_name": "Python 3",
   "language": "python",
   "name": "python3"
  },
  "language_info": {
   "codemirror_mode": {
    "name": "ipython",
    "version": 3
   },
   "file_extension": ".py",
   "mimetype": "text/x-python",
   "name": "python",
   "nbconvert_exporter": "python",
   "pygments_lexer": "ipython3",
   "version": "3.6.12"
  }
 },
 "nbformat": 4,
 "nbformat_minor": 4
}
