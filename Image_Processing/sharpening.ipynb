{
 "cells": [
  {
   "cell_type": "code",
   "execution_count": 1,
   "id": "neutral-pulse",
   "metadata": {},
   "outputs": [],
   "source": [
    "import numpy as np\n",
    "import cv2\n",
    "import os\n",
    "import pandas as pd\n",
    "import glob"
   ]
  },
  {
   "cell_type": "code",
   "execution_count": 15,
   "id": "cardiovascular-habitat",
   "metadata": {},
   "outputs": [],
   "source": [
    "img_file = r'../'\n",
    "fname = [s for s in (os.listdir(img_file))if s.endswith(\".jpg\")]\n",
    "\n",
    "for i in range(len(fname)):\n",
    "    \n",
    "    img_path = img_file + fname[i]\n",
    "    img = cv2.imread(img_path, cv2.IMREAD_COLOR)\n",
    "\n",
    "    kernel_sharpen = np.array([[-1,-1,-1,-1,-1], [-1,2,2,2,-1], [-1,2,8,2,-1], [-1,2,2,2,-1], [-1,-1,-1,-1,-1]]) / 8.0 #정규화를 위해 8로나눔\n",
    "    output = cv2.filter2D(img, -1, kernel_sharpen)\n",
    "        \n",
    "    img_save_path = r\"../\"\n",
    "    img_name = fname[i][:-4]\n",
    "    cv2.imwrite(img_save_path + img_name + '.jpg', output)"
   ]
  }
 ],
 "metadata": {
  "kernelspec": {
   "display_name": "Python 3",
   "language": "python",
   "name": "python3"
  },
  "language_info": {
   "codemirror_mode": {
    "name": "ipython",
    "version": 3
   },
   "file_extension": ".py",
   "mimetype": "text/x-python",
   "name": "python",
   "nbconvert_exporter": "python",
   "pygments_lexer": "ipython3",
   "version": "3.6.12"
  }
 },
 "nbformat": 4,
 "nbformat_minor": 5
}
