{
 "cells": [
  {
   "cell_type": "code",
   "execution_count": 21,
   "metadata": {},
   "outputs": [],
   "source": [
    "import numpy as np\n",
    "import cv2\n",
    "import os\n",
    "import pandas as pd\n",
    "import glob"
   ]
  },
  {
   "cell_type": "code",
   "execution_count": 22,
   "metadata": {},
   "outputs": [],
   "source": [
    "def histogram(img_path):\n",
    "        img = cv2.imread(img_path, cv2.IMREAD_COLOR)\n",
    "        \n",
    "        hist, bins = np.histogram(img.ravel(), 256, [0,256])\n",
    "        cdf = hist.cumsum()\n",
    "        \n",
    "        cdf_m = np.ma.masked_equal(cdf,0)\n",
    "        cdf_m - (cdf_m - cdf_m.min()) * 255 / (cdf_m.max() - cdf_m.min())\n",
    "        cdf = np.ma.filled(cdf_m, 0).astype('uint8')\n",
    "        \n",
    "        img2 = cdf[img]\n",
    "        \n",
    "        return img2"
   ]
  },
  {
   "cell_type": "code",
   "execution_count": null,
   "metadata": {},
   "outputs": [],
   "source": [
    "path = \"../*\"\n",
    "paths = glob.glob(path)\n",
    "\n",
    "for i in paths:\n",
    "    img_file = \"../\"\n",
    "    fname = i[i.rindex('/') + 1:]\n",
    "    img_path = os.path.join(img_file, fname)\n",
    "    \n",
    "    he_img = histogram(img_path) \n",
    "    \n",
    "    img_save_path = '../'\n",
    "    img_name = fname[:-4]\n",
    "    cv2.imwrite(img_save_path + img_name +'.jpg', he_img)"
   ]
  }
 ],
 "metadata": {
  "kernelspec": {
   "display_name": "Python 3",
   "language": "python",
   "name": "python3"
  },
  "language_info": {
   "codemirror_mode": {
    "name": "ipython",
    "version": 3
   },
   "file_extension": ".py",
   "mimetype": "text/x-python",
   "name": "python",
   "nbconvert_exporter": "python",
   "pygments_lexer": "ipython3",
   "version": "3.6.12"
  }
 },
 "nbformat": 4,
 "nbformat_minor": 4
}
